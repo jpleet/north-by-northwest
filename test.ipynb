{
 "cells": [
  {
   "cell_type": "code",
   "execution_count": null,
   "metadata": {},
   "outputs": [],
   "source": [
    "import numpy as np\n",
    "import pandas as pd\n",
    "from glob import glob\n",
    "from netCDF4 import Dataset\n",
    "import matplotlib.pyplot as plt\n",
    "from skimage.graph import route_through_array"
   ]
  },
  {
   "cell_type": "markdown",
   "metadata": {},
   "source": [
    "# Plots"
   ]
  },
  {
   "cell_type": "code",
   "execution_count": null,
   "metadata": {},
   "outputs": [],
   "source": [
    "# make like other plots\n",
    "from matplotlib.colors import LinearSegmentedColormap\n",
    "colors = [(252/255,79/255,48/255), (229/255, 174/255,56/255), (0/255,143/255,213/255)]\n",
    "cm = LinearSegmentedColormap.from_list('redblue', colors)"
   ]
  },
  {
   "cell_type": "code",
   "execution_count": null,
   "metadata": {},
   "outputs": [],
   "source": [
    "# Load Sea/Land fixed data to create a mask\n",
    "nc_f = 'data/sftlf_ARC-22_CCCma-CanESM2_rcp45_r1i1p1_CCCma-CanRCM4_r2_fx.nc'\n",
    "nc = Dataset(nc_f, 'r')\n",
    "#nc.variables.keys()\n",
    "sftlf = nc['sftlf'][0, :, :]"
   ]
  },
  {
   "cell_type": "code",
   "execution_count": null,
   "metadata": {},
   "outputs": [],
   "source": [
    "f = 'data/historic/day/sic_ARC-22_CCCma-CanESM2_historical_r1i1p1_CCCma-CanRCM4_r2_day_20010101-20051231.nc'\n",
    "\n",
    "nc = Dataset(f, 'r')\n",
    "\n",
    "weights = []\n",
    "indices_len = []\n",
    "times = []\n",
    "\n",
    "times.extend(list(nc['time'][:]))\n",
    "\n",
    "for i in range(nc['sic'].shape[0]):\n",
    "    sic = nc['sic'][i, :, :]\n",
    "    sic[np.where(sftlf!=0)] = -np.inf\n",
    "    indices, weight = route_through_array(sic, [0,116], [265,231], geometric=True, fully_connected=True)\n",
    "    weights.append(weight)\n",
    "    indices_len.append(len(indices))\n",
    "\n",
    "df = pd.DataFrame([weights, indices_len, times]).T\n",
    "df.columns = ['weights', 'num_index', 'time']\n",
    "df['date'] = pd.to_datetime(df.time, unit='D', origin='1949-12-01')\n",
    "df['year'] = df['date'].dt.year\n",
    "df['dayofyear'] = df.date.dt.dayofyear"
   ]
  },
  {
   "cell_type": "code",
   "execution_count": null,
   "metadata": {},
   "outputs": [],
   "source": [
    "sic_max = nc['sic'][df.weights.idxmax(), :, :]\n",
    "sic_max[np.where(sftlf!=0)] = -np.inf\n",
    "indices, weight = route_through_array(sic_max, [0,116], [265,231], geometric=True, fully_connected=True)\n",
    "indices = np.array(indices).T\n",
    "path = np.zeros_like(sic)\n",
    "path[indices[0], indices[1]] = 1"
   ]
  },
  {
   "cell_type": "code",
   "execution_count": null,
   "metadata": {},
   "outputs": [],
   "source": [
    "fig, ax = plt.subplots(figsize=(12,10))\n",
    "cb = ax.matshow(sic_max.T, origin='upper', cmap=cm, vmin=0, vmax=100)\n",
    "i,j = np.where(path.T==1)\n",
    "ax.scatter(j,i,s=10, c='black')\n",
    "ax.axis('off')\n",
    "plt.colorbar(cb, orientation='horizontal', fraction=0.046, pad=0.04)\n",
    "plt.title('MCP weight = {}'.format(round(weight, 3)), loc='left', fontsize=20)\n",
    "plt.suptitle('Sea Ice Concentration', ha='center', y=1.04, fontsize=22)\n",
    "plt.tight_layout()\n",
    "plt.savefig('plots/sic_ex1.png', dpi=72, pad_inches=0, bbox_inches=\"tight\")\n",
    "plt.show()"
   ]
  },
  {
   "cell_type": "code",
   "execution_count": null,
   "metadata": {},
   "outputs": [],
   "source": [
    "sic_min = nc['sic'][df.weights.idxmin(), :, :]\n",
    "sic_min[np.where(sftlf!=0)] = -np.inf\n",
    "indices, weight = route_through_array(sic_min, [0,116], [265,231], geometric=True, fully_connected=True)\n",
    "indices = np.array(indices).T\n",
    "path = np.zeros_like(sic)\n",
    "path[indices[0], indices[1]] = 1"
   ]
  },
  {
   "cell_type": "code",
   "execution_count": null,
   "metadata": {},
   "outputs": [],
   "source": [
    "fig, ax = plt.subplots(figsize=(12,10))\n",
    "cb = ax.matshow(sic_min.T, origin='upper', cmap=cm, vmin=0, vmax=100)\n",
    "i,j = np.where(path.T==1)\n",
    "ax.scatter(j,i,s=10, c='black')\n",
    "ax.axis('off')\n",
    "plt.colorbar(cb, orientation='horizontal', fraction=0.046, pad=0.04)\n",
    "plt.title('MCP weight = {}'.format(round(weight, 3)), loc='left', fontsize=20)\n",
    "plt.suptitle('Sea Ice Concentration', ha='center', y=1.04, fontsize=22)\n",
    "plt.tight_layout()\n",
    "plt.savefig('plots/sic_ex2.png', dpi=72, pad_inches=0, bbox_inches=\"tight\")\n",
    "plt.show()"
   ]
  }
 ],
 "metadata": {
  "kernelspec": {
   "display_name": "Python 3",
   "language": "python",
   "name": "python3"
  },
  "language_info": {
   "codemirror_mode": {
    "name": "ipython",
    "version": 3
   },
   "file_extension": ".py",
   "mimetype": "text/x-python",
   "name": "python",
   "nbconvert_exporter": "python",
   "pygments_lexer": "ipython3",
   "version": "3.7.2"
  }
 },
 "nbformat": 4,
 "nbformat_minor": 2
}
